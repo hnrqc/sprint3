{
 "cells": [
  {
   "cell_type": "code",
   "execution_count": 14,
   "id": "6da70c74",
   "metadata": {},
   "outputs": [],
   "source": [
    "import psycopg2 "
   ]
  },
  {
   "cell_type": "code",
   "execution_count": 15,
   "id": "d240902d",
   "metadata": {},
   "outputs": [],
   "source": [
    "conn = psycopg.connect(dbname=\"alura\", user=\"postgres\",password=\"postgres\")"
   ]
  },
  {
   "cell_type": "code",
   "execution_count": 16,
   "id": "e359ea67",
   "metadata": {},
   "outputs": [],
   "source": [
    "cur = conn.cursor()"
   ]
  },
  {
   "cell_type": "code",
   "execution_count": 17,
   "id": "5fdd8d81",
   "metadata": {},
   "outputs": [],
   "source": [
    "cur.execute(\"select * from aluno\")"
   ]
  },
  {
   "cell_type": "code",
   "execution_count": 18,
   "id": "e75948fb",
   "metadata": {},
   "outputs": [],
   "source": [
    "resultado = cur.fetchall()"
   ]
  },
  {
   "cell_type": "code",
   "execution_count": 19,
   "id": "18b45b80",
   "metadata": {},
   "outputs": [
    {
     "name": "stdout",
     "output_type": "stream",
     "text": [
      "(1, 'Diogo')\n",
      "(2, 'Vinícius')\n",
      "(3, 'Nico')\n"
     ]
    }
   ],
   "source": [
    "for res in resultado:\n",
    "    print(res)"
   ]
  },
  {
   "cell_type": "code",
   "execution_count": null,
   "id": "a468fb38",
   "metadata": {},
   "outputs": [],
   "source": []
  }
 ],
 "metadata": {
  "kernelspec": {
   "display_name": "Python 3 (ipykernel)",
   "language": "python",
   "name": "python3"
  },
  "language_info": {
   "codemirror_mode": {
    "name": "ipython",
    "version": 3
   },
   "file_extension": ".py",
   "mimetype": "text/x-python",
   "name": "python",
   "nbconvert_exporter": "python",
   "pygments_lexer": "ipython3",
   "version": "3.9.7"
  }
 },
 "nbformat": 4,
 "nbformat_minor": 5
}
