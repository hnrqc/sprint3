{
 "cells": [
  {
   "cell_type": "code",
   "execution_count": 49,
   "id": "fd9c35cf",
   "metadata": {},
   "outputs": [],
   "source": [
    "import psycopg2 "
   ]
  },
  {
   "cell_type": "code",
   "execution_count": 50,
   "id": "46e344a9",
   "metadata": {},
   "outputs": [],
   "source": [
    "conn = psycopg2.connect(dbname=\"alura\", user=\"postgres\",password=\"postgres\")"
   ]
  },
  {
   "cell_type": "code",
   "execution_count": 51,
   "id": "07afdf40",
   "metadata": {},
   "outputs": [],
   "source": [
    "cur = conn.cursor()"
   ]
  },
  {
   "cell_type": "code",
   "execution_count": 52,
   "id": "987279a3",
   "metadata": {},
   "outputs": [],
   "source": [
    "cur.execute(\"select * from aluno\")"
   ]
  },
  {
   "cell_type": "code",
   "execution_count": 53,
   "id": "eac84a1e",
   "metadata": {},
   "outputs": [],
   "source": [
    "resultado = cur.fetchall()"
   ]
  },
  {
   "cell_type": "code",
   "execution_count": 55,
   "id": "4e641caf",
   "metadata": {},
   "outputs": [
    {
     "name": "stdout",
     "output_type": "stream",
     "text": [
      "(1, 'Diogo')\n",
      "(2, 'Vinícius')\n",
      "(3, 'Nico')\n"
     ]
    }
   ],
   "source": [
    "for res in resultado:\n",
    "    print(res)"
   ]
  },
  {
   "cell_type": "code",
   "execution_count": 56,
   "id": "1d4e1cc4",
   "metadata": {},
   "outputs": [],
   "source": [
    "cur.close()"
   ]
  },
  {
   "cell_type": "code",
   "execution_count": 57,
   "id": "798ea04b",
   "metadata": {},
   "outputs": [],
   "source": [
    "conn.close()"
   ]
  }
 ],
 "metadata": {
  "kernelspec": {
   "display_name": "Python 3 (ipykernel)",
   "language": "python",
   "name": "python3"
  },
  "language_info": {
   "codemirror_mode": {
    "name": "ipython",
    "version": 3
   },
   "file_extension": ".py",
   "mimetype": "text/x-python",
   "name": "python",
   "nbconvert_exporter": "python",
   "pygments_lexer": "ipython3",
   "version": "3.9.7"
  }
 },
 "nbformat": 4,
 "nbformat_minor": 5
}
